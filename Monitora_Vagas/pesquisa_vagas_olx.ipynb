{
 "cells": [
  {
   "cell_type": "code",
   "execution_count": 1,
   "metadata": {},
   "outputs": [],
   "source": [
    "# Importação das bibliotecas\n",
    "import requests \n",
    "from bs4 import BeautifulSoup \n",
    "import telegram_send   \n",
    "import time"
   ]
  },
  {
   "cell_type": "code",
   "execution_count": 2,
   "metadata": {},
   "outputs": [],
   "source": [
    "# url das informações dos títulos.\n",
    "url_fonte = 'https://olxbrasil.recruiterbox.com/?team=Tecnologia#content'\n",
    "headers = {'User-Agent': 'Mozilla/5.0 (Windows NT 10.0; Win64; x64) AppleWebKit/537.36 (KHTML, like Gecko) Chrome/71.0.3578.98 Safari/537.36'}"
   ]
  },
  {
   "cell_type": "code",
   "execution_count": 3,
   "metadata": {},
   "outputs": [],
   "source": [
    "# Conectando da página\n",
    "con = requests.get(url_fonte, headers=headers)"
   ]
  },
  {
   "cell_type": "code",
   "execution_count": 4,
   "metadata": {},
   "outputs": [
    {
     "data": {
      "text/plain": [
       "200"
      ]
     },
     "execution_count": 4,
     "metadata": {},
     "output_type": "execute_result"
    }
   ],
   "source": [
    "# Status da Conexão. Status 200 conexão Ok.\n",
    "#https://www.w3.org/Protocols/HTTP/1.1/draft-ietf-http-v11-spec-01#Status-Codes\n",
    "con.status_code"
   ]
  },
  {
   "cell_type": "code",
   "execution_count": 5,
   "metadata": {},
   "outputs": [],
   "source": [
    "# Cria objeto BeautifulSoup com o conteúdo html da página\n",
    "soup = BeautifulSoup(con.content, \"html.parser\")\n",
    "#print(soup.prettify)"
   ]
  },
  {
   "cell_type": "code",
   "execution_count": 6,
   "metadata": {},
   "outputs": [],
   "source": [
    "# Extrai o conteúdo do \n",
    "titles = soup.find_all(class_='card-title-text cut-text')\n",
    "#titles"
   ]
  },
  {
   "cell_type": "code",
   "execution_count": 7,
   "metadata": {},
   "outputs": [],
   "source": [
    "# Adiciona os textos encontrados na página em uma lista\n",
    "titles_list = []\n",
    "for linha in titles:\n",
    "    titles_list.append(linha.text)\n",
    "    #print(linha.text)"
   ]
  },
  {
   "cell_type": "code",
   "execution_count": 8,
   "metadata": {},
   "outputs": [],
   "source": [
    "#Define a função que retorna a data e hora atual do sistema.\n",
    "def get_data_hora_atual():\n",
    "    return time.strftime(\"%d/%m/%Y %H:%M:%S\")"
   ]
  },
  {
   "cell_type": "code",
   "execution_count": 9,
   "metadata": {},
   "outputs": [],
   "source": [
    "def pesquisa_palavra(lista, palavra):\n",
    "    for linha in lista:\n",
    "        if linha.lower().find(palavra.lower()) > 0:\n",
    "            return linha\n",
    "    \n",
    "    return None"
   ]
  },
  {
   "cell_type": "code",
   "execution_count": 10,
   "metadata": {},
   "outputs": [],
   "source": [
    "# Lista de palavras que serão buscadas\n",
    "palavras_chave = ['big', 'data', 'cientista', 'science', 'scientist']"
   ]
  },
  {
   "cell_type": "code",
   "execution_count": 11,
   "metadata": {},
   "outputs": [],
   "source": [
    "# Seleciona os textos onde a palavra-chave foi encontrada.\n",
    "lista_texto_encontrados = []\n",
    "for palavra in palavras_chave:\n",
    "    encontrada =  pesquisa_palavra(titles_list, palavra)\n",
    "    if encontrada is not None:\n",
    "        if lista_texto_encontrados.count(encontrada) == 0:\n",
    "            lista_texto_encontrados.append(encontrada)\n",
    " "
   ]
  },
  {
   "cell_type": "code",
   "execution_count": 12,
   "metadata": {},
   "outputs": [],
   "source": [
    "# Formata a mensagem que será enviada pelo Telegram\n",
    "lista_msgs = []\n",
    "\n",
    "for row  in lista_texto_encontrados:          \n",
    "    mensagem = 'Vaga encontrada: {0}. Data: {1}. Site: {2}\\n'.format( lista_texto_encontrados, get_data_hora_atual(),url_fonte )    \n",
    "    lista_msgs.append(mensagem)"
   ]
  },
  {
   "cell_type": "code",
   "execution_count": 13,
   "metadata": {},
   "outputs": [],
   "source": [
    "# Envia as mensagens pelo Telegram\n",
    "for msg in lista_msgs:\n",
    "    telegram_send.send(messages=[msg])\n",
    "    #print(msg)"
   ]
  },
  {
   "cell_type": "code",
   "execution_count": null,
   "metadata": {},
   "outputs": [],
   "source": []
  },
  {
   "cell_type": "code",
   "execution_count": null,
   "metadata": {},
   "outputs": [],
   "source": []
  },
  {
   "cell_type": "code",
   "execution_count": null,
   "metadata": {},
   "outputs": [],
   "source": []
  }
 ],
 "metadata": {
  "kernelspec": {
   "display_name": "Python 3",
   "language": "python",
   "name": "python3"
  },
  "language_info": {
   "codemirror_mode": {
    "name": "ipython",
    "version": 3
   },
   "file_extension": ".py",
   "mimetype": "text/x-python",
   "name": "python",
   "nbconvert_exporter": "python",
   "pygments_lexer": "ipython3",
   "version": "3.6.7"
  }
 },
 "nbformat": 4,
 "nbformat_minor": 2
}
